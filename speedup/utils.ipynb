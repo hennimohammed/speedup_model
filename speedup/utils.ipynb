{
 "cells": [
  {
   "cell_type": "code",
   "execution_count": 1,
   "metadata": {},
   "outputs": [],
   "source": [
    "%reload_ext autoreload\n",
    "%autoreload 2\n",
    "%matplotlib inline\n",
    "import matplotlib.pyplot as plt\n",
    "plt.rcParams['figure.figsize'] = [40, 30]"
   ]
  },
  {
   "cell_type": "code",
   "execution_count": 1,
   "metadata": {},
   "outputs": [],
   "source": [
    "import fastai as fai\n",
    "from fastai.basic_data import DataLoader\n",
    "import numpy as np\n",
    "from torch.utils.data import SubsetRandomSampler\n",
    "import pandas as pd\n",
    "import seaborn as sns\n",
    "from os import environ\n",
    "from torch import optim\n",
    "from bisect import bisect_left\n",
    "\n",
    "from src.data.dataset import *\n",
    "from src.model.model_bn import *"
   ]
  },
  {
   "cell_type": "code",
   "execution_count": 3,
   "metadata": {
    "tags": [
     "parameters"
    ]
   },
   "outputs": [],
   "source": [
    "optimizer = environ.get('optimizer', 'Adam')\n",
    "num_workers= int(environ.get('num_workers', '8'))\n",
    "maxsize= int(environ.get('maxsize', '100000'))\n",
    "batch_size=int(environ.get('batch_size', '2048'))\n",
    "n_epochs=int(environ.get('n_epochs', '500'))\n",
    "batch_norm = environ.get('batch_norm', 'True') == 'True'\n",
    "dataset= environ.get('dataset', 'data/speedup_dataset.pkl')\n",
    "loss_func = environ.get('loss_func', 'MSE')\n",
    "log = environ.get('log', 'True') == 'True'\n",
    "wd = float(environ.get('weight_decay'))\n",
    "\n",
    "layers_sizes = list(map(int, environ.get('layers', '300 200 120 80 30').split()))\n",
    "drops = list(map(float, environ.get('dropouts', '0.2 0.2 0.1 0.1 0.1').split()))"
   ]
  },
  {
   "cell_type": "code",
   "execution_count": 2,
   "metadata": {},
   "outputs": [],
   "source": [
    "def train_dev_split(dataset, batch_size, num_workers, maxsize, log=False, split_factor=10, seed=42):\n",
    "    indices = np.random.RandomState(seed=seed).permutation(maxsize)\n",
    "\n",
    "    val_indices, train_indices = indices[:maxsize//split_factor], indices[maxsize//split_factor:]\n",
    "\n",
    "    train_dl = DataLoader(DatasetFromPkl(dataset, maxsize=len(train_indices), log=log), \n",
    "                        batch_size=batch_size,\n",
    "                        sampler=SubsetRandomSampler(train_indices),\n",
    "                         num_workers=num_workers)\n",
    "\n",
    "    val_dl = DataLoader(DatasetFromPkl(dataset, maxsize=len(val_indices), log=log), \n",
    "                        batch_size=batch_size, \n",
    "                        sampler=SubsetRandomSampler(val_indices),\n",
    "                         num_workers=num_workers)\n",
    "    return train_dl, val_dl\n",
    "\n",
    "def criterion(inputs, targets):\n",
    "    eps = 1e-5\n",
    "    return torch.mean(torch.abs(targets - inputs)/(targets+eps)*100)\n",
    "\n",
    "def get_data_with_names(dl):\n",
    "    dataset = dl.dataset\n",
    "    names, X, Y = zip(*[(dataset.get_sched_name(index), *dataset[index]) for index in dl.sampler.indices])\n",
    "    \n",
    "    return names, X, Y\n",
    "\n",
    "def get_schedule_data(dl, schedule):\n",
    "    dataset = dl.dataset\n",
    "    \n",
    "    X, Y = zip(*[dataset[index] for index in dl.sampler.indices \n",
    "                    if dataset.schedules[index].binary_repr == schedule])\n",
    "    \n",
    "    return X, Y\n",
    "    \n",
    "    \n",
    "def get_data_with_prog_names(dl):\n",
    "    dataset = dl.dataset\n",
    "    names, X, Y = zip(*[(dataset.get_prog_name(index), *dataset[index]) for index in dl.sampler.indices])\n",
    "    \n",
    "    return names, X, Y\n",
    "\n",
    "def joint_plot(df, title, val_range=list(range(-1, 15))):\n",
    "    ax = sns.jointplot('target', 'prediction', df, ).ax_joint\n",
    "    plt.suptitle(title)\n",
    "    _ = ax.set_xticks(val_range)\n",
    "    _ = ax.set_yticks(val_range)\n",
    "    _ = ax.plot(val_range, val_range, ':k')\n",
    "    \n",
    "class NameGetter(object):\n",
    "    def __init__(self, dataset):\n",
    "        self.dataset = dataset\n",
    "    \n",
    "    def __len__(self):\n",
    "        return len(self.dataset)\n",
    "\n",
    "    def __getitem__(self, index):\n",
    "        return self.dataset.get_prog_name(index)\n",
    "    \n",
    "def get_program_data(dl, prog_name, maxsize=103000):\n",
    "    dataset = dl.dataset\n",
    "    name_g = NameGetter(dataset)\n",
    "    \n",
    "    index1 = bisect_left(name_g, prog_name, 0, maxsize)\n",
    "    index2 = bisect_right(name_g, prog_name, index1, maxsize)\n",
    "    \n",
    "    X, Y = zip(*[dataset[index] for index in range(index1, index2)])\n",
    "   \n",
    "    return torch.Tensor(X), torch.Tensor(Y)\n",
    "\n",
    "def joint_plot_one_program(dl, prog_name, model, maxsize=103000):\n",
    "    model.eval()\n",
    "    \n",
    "    X, Y = get_program_data(dl, prog_name, maxsize)\n",
    "    Y_hat = model(X.cuda())\n",
    "    df = pd.DataFrame()\n",
    "    df['prediction'] = np.array(Y_hat.view(-1,))\n",
    "    df['target'] = np.array(Y)\n",
    "    \n",
    "    joint_plot(df, prog_name)\n",
    "    \n",
    "def joint_plot_one_schedule(dl, schedule, model):\n",
    "    X, Y = get_schedule_data(dl, schedule)\n",
    "    Y_hat = model(X.cuda())\n",
    "    \n",
    "    df = pd.DataFrame()\n",
    "    df['prediction'] = np.array(Y_hat.view(-1,))\n",
    "    df['target'] = np.array(Y)\n",
    "    \n",
    "    joint_plot(df, schedule)\n",
    "    "
   ]
  },
  {
   "cell_type": "code",
   "execution_count": null,
   "metadata": {},
   "outputs": [],
   "source": [
    "train_dl, val_dl = train_dev_split(dataset, batch_size, num_workers, maxsize)\n",
    "\n",
    "db = fai.basic_data.DataBunch(train_dl, val_dl)"
   ]
  },
  {
   "cell_type": "code",
   "execution_count": 3,
   "metadata": {},
   "outputs": [
    {
     "ename": "NameError",
     "evalue": "name 'train_dl' is not defined",
     "output_type": "error",
     "traceback": [
      "\u001b[0;31m---------------------------------------------------------------------------\u001b[0m",
      "\u001b[0;31mNameError\u001b[0m                                 Traceback (most recent call last)",
      "\u001b[0;32m<ipython-input-3-da77926e6ec1>\u001b[0m in \u001b[0;36m<module>\u001b[0;34m\u001b[0m\n\u001b[0;32m----> 1\u001b[0;31m \u001b[0minput_size\u001b[0m \u001b[0;34m=\u001b[0m \u001b[0mtrain_dl\u001b[0m\u001b[0;34m.\u001b[0m\u001b[0mdataset\u001b[0m\u001b[0;34m.\u001b[0m\u001b[0mX\u001b[0m\u001b[0;34m.\u001b[0m\u001b[0mshape\u001b[0m\u001b[0;34m[\u001b[0m\u001b[0;36m1\u001b[0m\u001b[0;34m]\u001b[0m\u001b[0;34m\u001b[0m\u001b[0;34m\u001b[0m\u001b[0m\n\u001b[0m\u001b[1;32m      2\u001b[0m \u001b[0moutput_size\u001b[0m \u001b[0;34m=\u001b[0m \u001b[0mtrain_dl\u001b[0m\u001b[0;34m.\u001b[0m\u001b[0mdataset\u001b[0m\u001b[0;34m.\u001b[0m\u001b[0mY\u001b[0m\u001b[0;34m.\u001b[0m\u001b[0mshape\u001b[0m\u001b[0;34m[\u001b[0m\u001b[0;36m1\u001b[0m\u001b[0;34m]\u001b[0m\u001b[0;34m\u001b[0m\u001b[0;34m\u001b[0m\u001b[0m\n\u001b[1;32m      3\u001b[0m \u001b[0;34m\u001b[0m\u001b[0m\n\u001b[1;32m      4\u001b[0m \u001b[0mlayers_sizes\u001b[0m \u001b[0;34m=\u001b[0m \u001b[0;34m[\u001b[0m\u001b[0;36m300\u001b[0m\u001b[0;34m,\u001b[0m \u001b[0;36m200\u001b[0m\u001b[0;34m,\u001b[0m \u001b[0;36m120\u001b[0m\u001b[0;34m,\u001b[0m \u001b[0;36m80\u001b[0m\u001b[0;34m,\u001b[0m \u001b[0;36m30\u001b[0m\u001b[0;34m]\u001b[0m\u001b[0;34m\u001b[0m\u001b[0;34m\u001b[0m\u001b[0m\n\u001b[1;32m      5\u001b[0m \u001b[0mdrops\u001b[0m \u001b[0;34m=\u001b[0m \u001b[0;34m[\u001b[0m\u001b[0;36m0.4\u001b[0m\u001b[0;34m,\u001b[0m \u001b[0;36m0.4\u001b[0m\u001b[0;34m,\u001b[0m \u001b[0;36m0.4\u001b[0m\u001b[0;34m,\u001b[0m \u001b[0;36m0.4\u001b[0m\u001b[0;34m,\u001b[0m \u001b[0;36m0.4\u001b[0m\u001b[0;34m]\u001b[0m\u001b[0;34m\u001b[0m\u001b[0;34m\u001b[0m\u001b[0m\n",
      "\u001b[0;31mNameError\u001b[0m: name 'train_dl' is not defined"
     ]
    }
   ],
   "source": [
    "input_size = train_dl.dataset.X.shape[1]\n",
    "output_size = train_dl.dataset.Y.shape[1]\n",
    "\n",
    "\n",
    "model = None \n",
    "\n",
    "if batch_norm:\n",
    "    model = Model_BN(input_size, output_size, hidden_sizes=layers_sizes, drops=drops)\n",
    "else:\n",
    "    model = Model(input_size, output_size)\n",
    "    \n",
    "if loss_func == 'MSE':\n",
    "    criterion = nn.MSELoss()\n",
    "\n",
    "l = fai.Learner(db, model, loss_func=criterion)\n",
    "\n",
    "if optimizer == 'SGD':\n",
    "    l.opt_func = optim.SGD\n"
   ]
  },
  {
   "cell_type": "code",
   "execution_count": 19,
   "metadata": {},
   "outputs": [],
   "source": []
  }
 ],
 "metadata": {
  "kernelspec": {
   "display_name": "Python 3",
   "language": "python",
   "name": "python3"
  },
  "language_info": {
   "codemirror_mode": {
    "name": "ipython",
    "version": 3
   },
   "file_extension": ".py",
   "mimetype": "text/x-python",
   "name": "python",
   "nbconvert_exporter": "python",
   "pygments_lexer": "ipython3",
   "version": "3.6.7"
  }
 },
 "nbformat": 4,
 "nbformat_minor": 2
}
