{
 "cells": [
  {
   "cell_type": "code",
   "execution_count": 1,
   "metadata": {},
   "outputs": [],
   "source": [
    "%reload_ext autoreload\n",
    "%autoreload 2\n",
    "%matplotlib inline\n",
    "import matplotlib.pyplot as plt\n",
    "plt.rcParams['figure.figsize'] = [40, 30]"
   ]
  },
  {
   "cell_type": "code",
   "execution_count": 1,
   "metadata": {},
   "outputs": [],
   "source": [
    "import fastai as fai\n",
    "from fastai.basic_data import DataLoader\n",
    "from data_loader import *\n",
    "import numpy as np\n",
    "from torch.utils.data import SubsetRandomSampler\n",
    "from model import *\n",
    "from model_bn import *\n",
    "from torch import optim\n",
    "import dill\n",
    "import papermill as pm\n",
    "from main import *\n",
    "import pandas as pd\n",
    "import seaborn as sns\n",
    "from bisect import bisect_left\n",
    "from os import environ"
   ]
  },
  {
   "cell_type": "code",
   "execution_count": 3,
   "metadata": {
    "tags": [
     "parameters"
    ]
   },
   "outputs": [],
   "source": [
    "optimizer = environ.get('optimizer', 'Adam')\n",
    "num_workers= int(environ.get('num_workers', '8'))\n",
    "maxsize= int(environ.get('maxsize', '100000'))\n",
    "batch_size=int(environ.get('batch_size', '2048'))\n",
    "n_epochs=int(environ.get('n_epochs', '500'))\n",
    "batch_norm = environ.get('batch_norm', 'True') == 'True'\n",
    "dataset= environ.get('dataset', 'data/speedup_dataset.h5')\n",
    "loss_func = environ.get('loss_func', 'MSE')\n"
   ]
  },
  {
   "cell_type": "code",
   "execution_count": 4,
   "metadata": {},
   "outputs": [],
   "source": [
    "train_dl, val_dl = train_dev_split(dataset, batch_size, num_workers, maxsize)\n",
    "\n",
    "db = fai.basic_data.DataBunch(train_dl, val_dl)"
   ]
  },
  {
   "cell_type": "code",
   "execution_count": 9,
   "metadata": {},
   "outputs": [],
   "source": [
    "def criterion(inputs, targets):\n",
    "    eps = 1e-5\n",
    "    return torch.mean(torch.abs(targets - inputs)/(targets+eps)*100)\n",
    "\n",
    "def get_data_with_names(dl):\n",
    "    dataset = dl.dataset\n",
    "    names, X, Y = zip(*[(dataset.get_sched_name(index), *dataset[index]) for index in dl.sampler.indices])\n",
    "    \n",
    "    return names, X, Y\n",
    "\n",
    "def get_data_with_prog_names(dl):\n",
    "    dataset = dl.dataset\n",
    "    names, X, Y = zip(*[(dataset.get_prog_name(index), *dataset[index]) for index in dl.sampler.indices])\n",
    "    \n",
    "    return names, X, Y\n",
    "\n",
    "def joint_plot(df, title, val_range=list(range(-1, 15))):\n",
    "    ax = sns.jointplot('target', 'prediction', df, ).ax_joint\n",
    "    plt.suptitle(title)\n",
    "    _ = ax.set_xticks(val_range)\n",
    "    _ = ax.set_yticks(val_range)\n",
    "    _ = ax.plot(val_range, val_range, ':k')\n",
    "    \n",
    "class NameGetter(object):\n",
    "    def __init__(self, dataset):\n",
    "        self.dataset = dataset\n",
    "    \n",
    "    def __len__(self):\n",
    "        return len(self.dataset)\n",
    "\n",
    "    def __getitem__(self, index):\n",
    "        return self.dataset.get_prog_name(index)\n",
    "    \n",
    "def get_program_data(dl, prog_name, maxsize=103000):\n",
    "    dataset = dl.dataset\n",
    "    name_g = NameGetter(dataset)\n",
    "    \n",
    "    index1 = bisect_left(name_g, prog_name, 0, maxsize)\n",
    "    index2 = bisect_right(name_g, prog_name, index1, maxsize)\n",
    "    \n",
    "    X, Y = zip(*[dataset[index] for index in range(index1, index2)])\n",
    "   \n",
    "    return torch.Tensor(X), torch.Tensor(Y)"
   ]
  },
  {
   "cell_type": "code",
   "execution_count": 48,
   "metadata": {},
   "outputs": [],
   "source": [
    "input_size = train_dl.dataset.X.shape[1]\n",
    "output_size = train_dl.dataset.Y.shape[1]\n",
    "\n",
    "layers_sizes = [300, 200, 120, 80, 30]\n",
    "\n",
    "model = None \n",
    "\n",
    "if batch_norm:\n",
    "    model = Model_BN(input_size, output_size, hidden_sizes=layers_sizes)\n",
    "else:\n",
    "    model = Model(input_size, output_size)\n",
    "    \n",
    "if loss_func == 'MSE':\n",
    "    criterion = nn.MSELoss()\n",
    "\n",
    "l = fai.Learner(db, model, loss_func=criterion)\n",
    "\n",
    "if optimizer == 'SGD':\n",
    "    l.opt_func = optim.SGD\n"
   ]
  },
  {
   "cell_type": "code",
   "execution_count": 19,
   "metadata": {},
   "outputs": [],
   "source": []
  }
 ],
 "metadata": {
  "kernelspec": {
   "display_name": "Python 3",
   "language": "python",
   "name": "python3"
  },
  "language_info": {
   "codemirror_mode": {
    "name": "ipython",
    "version": 3
   },
   "file_extension": ".py",
   "mimetype": "text/x-python",
   "name": "python",
   "nbconvert_exporter": "python",
   "pygments_lexer": "ipython3",
   "version": "3.6.7"
  }
 },
 "nbformat": 4,
 "nbformat_minor": 2
}
