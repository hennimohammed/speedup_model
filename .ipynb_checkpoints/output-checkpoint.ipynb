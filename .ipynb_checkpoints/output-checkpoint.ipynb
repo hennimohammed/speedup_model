{
 "cells": [
  {
   "cell_type": "code",
   "execution_count": 1,
   "metadata": {
    "papermill": {
     "duration": 0.442663,
     "end_time": "2019-02-22T16:42:02.258538",
     "exception": false,
     "start_time": "2019-02-22T16:42:01.815875",
     "status": "completed"
    },
    "tags": []
   },
   "outputs": [],
   "source": [
    "%reload_ext autoreload\n",
    "%autoreload 2\n",
    "import main\n",
    "%matplotlib inline\n",
    "import matplotlib.pyplot as plt\n",
    "plt.rcParams['figure.figsize'] = [40, 30]"
   ]
  },
  {
   "cell_type": "code",
   "execution_count": 2,
   "metadata": {
    "papermill": {
     "duration": 0.829255,
     "end_time": "2019-02-22T16:42:03.088205",
     "exception": false,
     "start_time": "2019-02-22T16:42:02.258950",
     "status": "completed"
    },
    "tags": []
   },
   "outputs": [],
   "source": [
    "import fastai as fai\n",
    "from data_loader import *\n",
    "import numpy as np\n",
    "from torch.utils.data import SubsetRandomSampler\n",
    "from model import *\n",
    "from torch import optim"
   ]
  },
  {
   "cell_type": "code",
   "execution_count": 3,
   "metadata": {
    "papermill": {
     "duration": 0.025633,
     "end_time": "2019-02-22T16:42:03.113998",
     "exception": false,
     "start_time": "2019-02-22T16:42:03.088365",
     "status": "completed"
    },
    "tags": [
     "parameters"
    ]
   },
   "outputs": [],
   "source": [
    "optimizer = 'SGD'\n",
    "num_workers=8\n",
    "maxsize=1000000\n",
    "batch_size=2048\n",
    "n_epochs=500\n",
    "batch_norm = False"
   ]
  },
  {
   "cell_type": "code",
   "execution_count": 4,
   "metadata": {
    "papermill": {
     "duration": 0.025479,
     "end_time": "2019-02-22T16:42:03.139557",
     "exception": false,
     "start_time": "2019-02-22T16:42:03.114078",
     "status": "completed"
    },
    "tags": [
     "injected-parameters"
    ]
   },
   "outputs": [],
   "source": [
    "# Parameters\n",
    "n_epochs = 3\n"
   ]
  },
  {
   "cell_type": "code",
   "execution_count": 5,
   "metadata": {
    "papermill": {
     "duration": 0.070718,
     "end_time": "2019-02-22T16:42:03.210356",
     "exception": false,
     "start_time": "2019-02-22T16:42:03.139638",
     "status": "completed"
    },
    "tags": []
   },
   "outputs": [],
   "source": [
    "indices = np.random.RandomState(seed=42).permutation(maxsize)\n",
    "\n",
    "val_indices, train_indices = indices[:maxsize//50], indices[maxsize//50:]\n",
    "dataset='data/train_dataset.h5'\n",
    "\n",
    "train_dl = fai.basic_data.DataLoader(DatasetFromHdf5(dataset, maxsize=len(train_indices)), \n",
    "                        batch_size=batch_size,\n",
    "                        sampler=SubsetRandomSampler(train_indices),\n",
    "                         num_workers=num_workers)\n",
    "\n",
    "val_dl = fai.basic_data.DataLoader(DatasetFromHdf5(dataset, maxsize=len(val_indices)), \n",
    "                        batch_size=batch_size, \n",
    "                        sampler=SubsetRandomSampler(val_indices),\n",
    "                         num_workers=num_workers)\n",
    "\n",
    "db = fai.basic_data.DataBunch(train_dl, val_dl)"
   ]
  },
  {
   "cell_type": "code",
   "execution_count": 6,
   "metadata": {
    "papermill": {
     "duration": 0.039496,
     "end_time": "2019-02-22T16:42:03.250047",
     "exception": false,
     "start_time": "2019-02-22T16:42:03.210551",
     "status": "completed"
    },
    "tags": []
   },
   "outputs": [],
   "source": [
    "input_size = train_dl.dataset.programs.shape[1] + 2*train_dl.dataset.schedules.shape[1] \n",
    "output_size = 1\n",
    "\n",
    "\n",
    "m = Model(input_size, output_size)\n",
    "criterion = nn.MSELoss()\n",
    "\n",
    "l = fai.Learner(db, m, loss_func=criterion)\n",
    "\n",
    "if optimizer == 'SGD':\n",
    "    l.opt_func = optim.SGD\n"
   ]
  },
  {
   "cell_type": "code",
   "execution_count": 7,
   "metadata": {
    "papermill": {
     "duration": 6.925835,
     "end_time": "2019-02-22T16:42:10.175962",
     "exception": false,
     "start_time": "2019-02-22T16:42:03.250127",
     "status": "completed"
    },
    "tags": []
   },
   "outputs": [
    {
     "data": {
      "text/html": [],
      "text/plain": [
       "<IPython.core.display.HTML object>"
      ]
     },
     "metadata": {},
     "output_type": "display_data"
    },
    {
     "name": "stdout",
     "output_type": "stream",
     "text": [
      "LR Finder is complete, type {learner_name}.recorder.plot() to see the graph.\n"
     ]
    }
   ],
   "source": [
    "l.lr_find()"
   ]
  },
  {
   "cell_type": "code",
   "execution_count": 8,
   "metadata": {
    "papermill": {
     "duration": 0.030024,
     "end_time": "2019-02-22T16:42:10.206161",
     "exception": false,
     "start_time": "2019-02-22T16:42:10.176137",
     "status": "completed"
    },
    "tags": []
   },
   "outputs": [],
   "source": [
    "#l.recorder.plot()"
   ]
  },
  {
   "cell_type": "code",
   "execution_count": 9,
   "metadata": {
    "papermill": {
     "duration": 0.030502,
     "end_time": "2019-02-22T16:42:10.236758",
     "exception": false,
     "start_time": "2019-02-22T16:42:10.206256",
     "status": "completed"
    },
    "tags": []
   },
   "outputs": [],
   "source": [
    "lr = 0.01"
   ]
  },
  {
   "cell_type": "code",
   "execution_count": 10,
   "metadata": {
    "papermill": {
     "duration": 182.581136,
     "end_time": "2019-02-22T16:45:12.817978",
     "exception": false,
     "start_time": "2019-02-22T16:42:10.236842",
     "status": "completed"
    },
    "tags": []
   },
   "outputs": [
    {
     "data": {
      "text/html": [
       "Total time: 03:02 <p><table style='width:300px; margin-bottom:10px'>\n",
       "  <tr>\n",
       "    <th>epoch</th>\n",
       "    <th>train_loss</th>\n",
       "    <th>valid_loss</th>\n",
       "  </tr>\n",
       "  <tr>\n",
       "    <th>1</th>\n",
       "    <th>11.494804</th>\n",
       "    <th>12.195583</th>\n",
       "  </tr>\n",
       "  <tr>\n",
       "    <th>2</th>\n",
       "    <th>10.801219</th>\n",
       "    <th>13.447638</th>\n",
       "  </tr>\n",
       "  <tr>\n",
       "    <th>3</th>\n",
       "    <th>11.047999</th>\n",
       "    <th>11.631809</th>\n",
       "  </tr>\n",
       "</table>\n"
      ],
      "text/plain": [
       "<IPython.core.display.HTML object>"
      ]
     },
     "metadata": {},
     "output_type": "display_data"
    }
   ],
   "source": [
    "l.fit_one_cycle(n_epochs, lr)"
   ]
  },
  {
   "cell_type": "code",
   "execution_count": 1,
   "metadata": {
    "papermill": {
     "duration": 6e-06,
     "end_time": "2019-02-22T16:45:12.818234",
     "exception": null,
     "start_time": "2019-02-22T16:45:12.818228",
     "status": "completed"
    },
    "tags": []
   },
   "outputs": [
    {
     "ename": "NameError",
     "evalue": "name 'l' is not defined",
     "output_type": "error",
     "traceback": [
      "\u001b[0;31m---------------------------------------------------------------------------\u001b[0m",
      "\u001b[0;31mNameError\u001b[0m                                 Traceback (most recent call last)",
      "\u001b[0;32m<ipython-input-1-cde25b5e10ad>\u001b[0m in \u001b[0;36m<module>\u001b[0;34m\u001b[0m\n\u001b[0;32m----> 1\u001b[0;31m \u001b[0ml\u001b[0m\u001b[0;34m\u001b[0m\u001b[0;34m\u001b[0m\u001b[0m\n\u001b[0m",
      "\u001b[0;31mNameError\u001b[0m: name 'l' is not defined"
     ]
    }
   ],
   "source": []
  }
 ],
 "metadata": {
  "kernelspec": {
   "display_name": "Python 3",
   "language": "python",
   "name": "python3"
  },
  "language_info": {
   "codemirror_mode": {
    "name": "ipython",
    "version": 3
   },
   "file_extension": ".py",
   "mimetype": "text/x-python",
   "name": "python",
   "nbconvert_exporter": "python",
   "pygments_lexer": "ipython3",
   "version": "3.6.7"
  },
  "papermill": {
   "duration": 192.721315,
   "end_time": "2019-02-22T16:45:13.816184",
   "environment_variables": {},
   "exception": false,
   "output_path": "output.ipynb",
   "parameters": {
    "n_epochs": 3
   },
   "start_time": "2019-02-22T16:42:01.094869",
   "version": "0.14.2"
  }
 },
 "nbformat": 4,
 "nbformat_minor": 2
}
