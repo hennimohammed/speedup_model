{
 "cells": [
  {
   "cell_type": "code",
   "execution_count": 1,
   "metadata": {
    "papermill": {
     "duration": 0.40686,
     "end_time": "2019-02-22T17:11:54.040666",
     "exception": false,
     "start_time": "2019-02-22T17:11:53.633806",
     "status": "completed"
    },
    "tags": []
   },
   "outputs": [],
   "source": [
    "%reload_ext autoreload\n",
    "%autoreload 2\n",
    "import main\n",
    "%matplotlib inline\n",
    "import matplotlib.pyplot as plt\n",
    "plt.rcParams['figure.figsize'] = [40, 30]"
   ]
  },
  {
   "cell_type": "code",
   "execution_count": 1,
   "metadata": {
    "papermill": {
     "duration": 0.821333,
     "end_time": "2019-02-22T17:11:54.862444",
     "exception": false,
     "start_time": "2019-02-22T17:11:54.041111",
     "status": "completed"
    },
    "tags": []
   },
   "outputs": [],
   "source": [
    "import fastai as fai\n",
    "from data_loader import *\n",
    "import numpy as np\n",
    "from torch.utils.data import SubsetRandomSampler\n",
    "from model import *\n",
    "from model_bn import *\n",
    "from torch import optim\n",
    "import dill"
   ]
  },
  {
   "cell_type": "code",
   "execution_count": 2,
   "metadata": {
    "papermill": {
     "duration": 0.021154,
     "end_time": "2019-02-22T17:11:54.883760",
     "exception": false,
     "start_time": "2019-02-22T17:11:54.862606",
     "status": "completed"
    },
    "tags": [
     "parameters"
    ]
   },
   "outputs": [],
   "source": [
    "optimizer = 'SGD'\n",
    "num_workers=8\n",
    "maxsize=1000000\n",
    "batch_size=2048\n",
    "n_epochs=500\n",
    "batch_norm = False"
   ]
  },
  {
   "cell_type": "code",
   "execution_count": 4,
   "metadata": {
    "papermill": {
     "duration": 0.01952,
     "end_time": "2019-02-22T17:11:54.903355",
     "exception": false,
     "start_time": "2019-02-22T17:11:54.883835",
     "status": "completed"
    },
    "tags": [
     "injected-parameters"
    ]
   },
   "outputs": [],
   "source": [
    "# Parameters\n",
    "n_epochs = 1\n",
    "maxsize = 20000\n"
   ]
  },
  {
   "cell_type": "code",
   "execution_count": 5,
   "metadata": {
    "papermill": {
     "duration": 0.040154,
     "end_time": "2019-02-22T17:11:54.943584",
     "exception": false,
     "start_time": "2019-02-22T17:11:54.903430",
     "status": "completed"
    },
    "tags": []
   },
   "outputs": [],
   "source": [
    "indices = np.random.RandomState(seed=42).permutation(maxsize)\n",
    "\n",
    "val_indices, train_indices = indices[:maxsize//50], indices[maxsize//50:]\n",
    "dataset='data/train_dataset.h5'\n",
    "\n",
    "train_dl = fai.basic_data.DataLoader(DatasetFromHdf5(dataset, maxsize=len(train_indices)), \n",
    "                        batch_size=batch_size,\n",
    "                        sampler=SubsetRandomSampler(train_indices),\n",
    "                         num_workers=num_workers)\n",
    "\n",
    "val_dl = fai.basic_data.DataLoader(DatasetFromHdf5(dataset, maxsize=len(val_indices)), \n",
    "                        batch_size=batch_size, \n",
    "                        sampler=SubsetRandomSampler(val_indices),\n",
    "                         num_workers=num_workers)\n",
    "\n",
    "db = fai.basic_data.DataBunch(train_dl, val_dl)"
   ]
  },
  {
   "cell_type": "code",
   "execution_count": 6,
   "metadata": {
    "papermill": {
     "duration": 0.038974,
     "end_time": "2019-02-22T17:11:54.982629",
     "exception": false,
     "start_time": "2019-02-22T17:11:54.943655",
     "status": "completed"
    },
    "tags": []
   },
   "outputs": [],
   "source": [
    "input_size = train_dl.dataset.programs.shape[1] + 2*train_dl.dataset.schedules.shape[1] \n",
    "output_size = 1\n",
    "\n",
    "m = None \n",
    "\n",
    "if batch_norm:\n",
    "    m = Model_BN(input_size, output_size)\n",
    "else:\n",
    "    m = Model(input_size, output_size)\n",
    "    \n",
    "criterion = nn.MSELoss()\n",
    "\n",
    "l = fai.Learner(db, m, loss_func=criterion)\n",
    "\n",
    "if optimizer == 'SGD':\n",
    "    l.opt_func = optim.SGD\n"
   ]
  },
  {
   "cell_type": "code",
   "execution_count": 7,
   "metadata": {
    "papermill": {
     "duration": 7.585591,
     "end_time": "2019-02-22T17:12:02.568363",
     "exception": false,
     "start_time": "2019-02-22T17:11:54.982772",
     "status": "completed"
    },
    "tags": []
   },
   "outputs": [
    {
     "data": {
      "text/html": [],
      "text/plain": [
       "<IPython.core.display.HTML object>"
      ]
     },
     "metadata": {},
     "output_type": "display_data"
    },
    {
     "name": "stdout",
     "output_type": "stream",
     "text": [
      "LR Finder is complete, type {learner_name}.recorder.plot() to see the graph.\n"
     ]
    }
   ],
   "source": [
    "l.lr_find()"
   ]
  },
  {
   "cell_type": "code",
   "execution_count": 8,
   "metadata": {
    "papermill": {
     "duration": 0.028886,
     "end_time": "2019-02-22T17:12:02.597320",
     "exception": false,
     "start_time": "2019-02-22T17:12:02.568434",
     "status": "completed"
    },
    "tags": []
   },
   "outputs": [],
   "source": [
    "#l.recorder.plot()"
   ]
  },
  {
   "cell_type": "code",
   "execution_count": 9,
   "metadata": {
    "papermill": {
     "duration": 0.032822,
     "end_time": "2019-02-22T17:12:02.630308",
     "exception": false,
     "start_time": "2019-02-22T17:12:02.597486",
     "status": "completed"
    },
    "tags": []
   },
   "outputs": [],
   "source": [
    "lr = 0.01"
   ]
  },
  {
   "cell_type": "code",
   "execution_count": 10,
   "metadata": {
    "papermill": {
     "duration": 1.099808,
     "end_time": "2019-02-22T17:12:03.730205",
     "exception": false,
     "start_time": "2019-02-22T17:12:02.630397",
     "status": "completed"
    },
    "tags": []
   },
   "outputs": [
    {
     "data": {
      "text/html": [
       "Total time: 00:01 <p><table style='width:300px; margin-bottom:10px'>\n",
       "  <tr>\n",
       "    <th>epoch</th>\n",
       "    <th>train_loss</th>\n",
       "    <th>valid_loss</th>\n",
       "  </tr>\n",
       "  <tr>\n",
       "    <th>1</th>\n",
       "    <th>3.757800</th>\n",
       "    <th>3.161796</th>\n",
       "  </tr>\n",
       "</table>\n"
      ],
      "text/plain": [
       "<IPython.core.display.HTML object>"
      ]
     },
     "metadata": {},
     "output_type": "display_data"
    }
   ],
   "source": [
    "l.fit_one_cycle(n_epochs, lr)"
   ]
  },
  {
   "cell_type": "code",
   "execution_count": 11,
   "metadata": {
    "papermill": {
     "duration": 0.121981,
     "end_time": "2019-02-22T17:12:03.852348",
     "exception": false,
     "start_time": "2019-02-22T17:12:03.730367",
     "status": "completed"
    },
    "tags": []
   },
   "outputs": [],
   "source": [
    "dill.dump_session(f\"{optimizer}_batch_norm_{batch_norm}.db\")"
   ]
  },
  {
   "cell_type": "code",
   "execution_count": 3,
   "metadata": {
    "papermill": {
     "duration": 0.02583,
     "end_time": "2019-02-22T17:12:03.878369",
     "exception": false,
     "start_time": "2019-02-22T17:12:03.852539",
     "status": "completed"
    },
    "scrolled": true,
    "tags": []
   },
   "outputs": [
    {
     "ename": "KeyError",
     "evalue": "0",
     "output_type": "error",
     "traceback": [
      "\u001b[0;31m---------------------------------------------------------------------------\u001b[0m",
      "\u001b[0;31mKeyError\u001b[0m                                  Traceback (most recent call last)",
      "\u001b[0;32mh5py/_objects.pyx\u001b[0m in \u001b[0;36mh5py._objects.ObjectID.__dealloc__\u001b[0;34m()\u001b[0m\n",
      "\u001b[0;31mKeyError\u001b[0m: 0"
     ]
    },
    {
     "name": "stderr",
     "output_type": "stream",
     "text": [
      "Exception ignored in: 'h5py._objects.ObjectID.__dealloc__'\n",
      "Traceback (most recent call last):\n",
      "  File \"h5py/_objects.pyx\", line 200, in h5py._objects.ObjectID.__dealloc__\n",
      "KeyError: 0\n"
     ]
    },
    {
     "ename": "TypeError",
     "evalue": "__cinit__() takes exactly 1 positional argument (0 given)",
     "output_type": "error",
     "traceback": [
      "\u001b[0;31m---------------------------------------------------------------------------\u001b[0m",
      "\u001b[0;31mTypeError\u001b[0m                                 Traceback (most recent call last)",
      "\u001b[0;32m<ipython-input-3-1377eeb7dcb7>\u001b[0m in \u001b[0;36m<module>\u001b[0;34m\u001b[0m\n\u001b[0;32m----> 1\u001b[0;31m \u001b[0mdill\u001b[0m\u001b[0;34m.\u001b[0m\u001b[0mload_session\u001b[0m\u001b[0;34m(\u001b[0m\u001b[0;34mf\"{optimizer}_batch_norm_{batch_norm}.db\"\u001b[0m\u001b[0;34m)\u001b[0m\u001b[0;34m\u001b[0m\u001b[0;34m\u001b[0m\u001b[0m\n\u001b[0m",
      "\u001b[0;32m~/anaconda3/lib/python3.6/site-packages/dill/_dill.py\u001b[0m in \u001b[0;36mload_session\u001b[0;34m(filename, main)\u001b[0m\n\u001b[1;32m    400\u001b[0m         \u001b[0munpickler\u001b[0m\u001b[0;34m.\u001b[0m\u001b[0m_main\u001b[0m \u001b[0;34m=\u001b[0m \u001b[0mmain\u001b[0m\u001b[0;34m\u001b[0m\u001b[0;34m\u001b[0m\u001b[0m\n\u001b[1;32m    401\u001b[0m         \u001b[0munpickler\u001b[0m\u001b[0;34m.\u001b[0m\u001b[0m_session\u001b[0m \u001b[0;34m=\u001b[0m \u001b[0;32mTrue\u001b[0m\u001b[0;34m\u001b[0m\u001b[0;34m\u001b[0m\u001b[0m\n\u001b[0;32m--> 402\u001b[0;31m         \u001b[0mmodule\u001b[0m \u001b[0;34m=\u001b[0m \u001b[0munpickler\u001b[0m\u001b[0;34m.\u001b[0m\u001b[0mload\u001b[0m\u001b[0;34m(\u001b[0m\u001b[0;34m)\u001b[0m\u001b[0;34m\u001b[0m\u001b[0;34m\u001b[0m\u001b[0m\n\u001b[0m\u001b[1;32m    403\u001b[0m         \u001b[0munpickler\u001b[0m\u001b[0;34m.\u001b[0m\u001b[0m_session\u001b[0m \u001b[0;34m=\u001b[0m \u001b[0;32mFalse\u001b[0m\u001b[0;34m\u001b[0m\u001b[0;34m\u001b[0m\u001b[0m\n\u001b[1;32m    404\u001b[0m         \u001b[0mmain\u001b[0m\u001b[0;34m.\u001b[0m\u001b[0m__dict__\u001b[0m\u001b[0;34m.\u001b[0m\u001b[0mupdate\u001b[0m\u001b[0;34m(\u001b[0m\u001b[0mmodule\u001b[0m\u001b[0;34m.\u001b[0m\u001b[0m__dict__\u001b[0m\u001b[0;34m)\u001b[0m\u001b[0;34m\u001b[0m\u001b[0;34m\u001b[0m\u001b[0m\n",
      "\u001b[0;32m~/anaconda3/lib/python3.6/site-packages/h5py/h5f.cpython-36m-x86_64-linux-gnu.so\u001b[0m in \u001b[0;36mh5py.h5f.__pyx_unpickle_FileID\u001b[0;34m()\u001b[0m\n",
      "\u001b[0;32mh5py/_objects.pyx\u001b[0m in \u001b[0;36mh5py._objects.ObjectID.__cinit__\u001b[0;34m()\u001b[0m\n",
      "\u001b[0;31mTypeError\u001b[0m: __cinit__() takes exactly 1 positional argument (0 given)"
     ]
    }
   ],
   "source": [
    "dill.load_session(f\"{optimizer}_batch_norm_{batch_norm}.db\")"
   ]
  }
 ],
 "metadata": {
  "kernelspec": {
   "display_name": "Python 3",
   "language": "python",
   "name": "python3"
  },
  "language_info": {
   "codemirror_mode": {
    "name": "ipython",
    "version": 3
   },
   "file_extension": ".py",
   "mimetype": "text/x-python",
   "name": "python",
   "nbconvert_exporter": "python",
   "pygments_lexer": "ipython3",
   "version": "3.6.7"
  },
  "papermill": {
   "duration": 11.639861,
   "end_time": "2019-02-22T17:12:04.591630",
   "environment_variables": {},
   "exception": false,
   "output_path": "output1.ipynb",
   "parameters": {
    "maxsize": 20000,
    "n_epochs": 1
   },
   "start_time": "2019-02-22T17:11:52.951769",
   "version": "0.14.2"
  }
 },
 "nbformat": 4,
 "nbformat_minor": 2
}
